{
 "cells": [
  {
   "cell_type": "markdown",
   "id": "1250780b-1653-4b89-b46b-0253b17800b8",
   "metadata": {},
   "source": [
    "# Data Science Tools and Ecosystem"
   ]
  },
  {
   "cell_type": "markdown",
   "id": "6e9bf26f-046c-4266-8866-00cc06768886",
   "metadata": {},
   "source": [
    "In this notebook, Data Science Tools and Ecosystem are summarized."
   ]
  },
  {
   "cell_type": "markdown",
   "id": "455aa53c-7230-4c39-8636-f8e7891095f9",
   "metadata": {},
   "source": [
    "**Objectives:**\n",
    "<li>List popular languages for Data Science.</li>\n",
    "<li>List common libraries for Data Science.</li>\n",
    "<li>Example of Python code</li>"
   ]
  },
  {
   "cell_type": "markdown",
   "id": "d7f2c02e-eb09-4617-9025-6bbbc89560aa",
   "metadata": {},
   "source": [
    "Some of the popular languages that Data Scientists use are:\n",
    "<ol>\n",
    "<li>R</li>\n",
    "<li>Python</li>\n",
    "<li>C+</li>\n",
    "</ol>"
   ]
  },
  {
   "cell_type": "markdown",
   "id": "931094f7-f016-42d5-b8e8-c2401b0ab2dc",
   "metadata": {},
   "source": [
    "Some of the commonly used libraries used by Data Scientists include:\n",
    "<ol>\n",
    "<li>Pandas</li>\n",
    "<li>NumPy</li>\n",
    "<li>Seaborn</li>\n",
    "<li>Matbotlib</li>\n",
    "</ol>"
   ]
  },
  {
   "cell_type": "markdown",
   "id": "833b2db0-721d-4f3f-bfb6-6ffe8d9f72b5",
   "metadata": {},
   "source": [
    "| Data Science Tools|\n",
    "|-------------------|\n",
    "|RStudio|\n",
    "|Apache Spark|\n",
    "|PyCharm|"
   ]
  },
  {
   "cell_type": "markdown",
   "id": "861a16d9-dfdd-450f-9056-194314da63ac",
   "metadata": {},
   "source": [
    "### Below are a few examples of evaluating arithmetic expressions in Python"
   ]
  },
  {
   "cell_type": "code",
   "execution_count": 2,
   "id": "d34207e5-988d-4b4c-ab95-4ea2badcc240",
   "metadata": {
    "tags": []
   },
   "outputs": [
    {
     "data": {
      "text/plain": [
       "17"
      ]
     },
     "execution_count": 2,
     "metadata": {},
     "output_type": "execute_result"
    }
   ],
   "source": [
    "(3*4)+5\n",
    "#This a simple arithmetic expression to mutiply then add integers"
   ]
  },
  {
   "cell_type": "code",
   "execution_count": 5,
   "id": "660d8396-e89c-466e-84fa-58e63ad5f69b",
   "metadata": {
    "tags": []
   },
   "outputs": [
    {
     "data": {
      "text/plain": [
       "3.3333333333333335"
      ]
     },
     "execution_count": 5,
     "metadata": {},
     "output_type": "execute_result"
    }
   ],
   "source": [
    "200/60\n",
    "#This will convert 200 minutes to hours by diving by 60"
   ]
  },
  {
   "cell_type": "markdown",
   "id": "8dc5ea26-dd5e-40be-9481-2906177cce1e",
   "metadata": {},
   "source": [
    "## Author\n",
    "Benedict Chan"
   ]
  }
 ],
 "metadata": {
  "kernelspec": {
   "display_name": "Python",
   "language": "python",
   "name": "conda-env-python-py"
  },
  "language_info": {
   "codemirror_mode": {
    "name": "ipython",
    "version": 3
   },
   "file_extension": ".py",
   "mimetype": "text/x-python",
   "name": "python",
   "nbconvert_exporter": "python",
   "pygments_lexer": "ipython3",
   "version": "3.7.12"
  }
 },
 "nbformat": 4,
 "nbformat_minor": 5
}
